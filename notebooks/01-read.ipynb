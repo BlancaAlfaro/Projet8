{
 "cells": [
  {
   "cell_type": "code",
   "execution_count": null,
   "metadata": {},
   "outputs": [],
   "source": [
    "import glob\n",
    "import os\n",
    "\n",
    "import numpy as np\n",
    "import pandas as pd\n",
    "import PIL\n",
    "import matplotlib.pyplot as plt\n",
    "\n",
    "from matplotlib.pyplot import imshow\n",
    "from PIL import Image"
   ]
  },
  {
   "cell_type": "code",
   "execution_count": null,
   "metadata": {},
   "outputs": [],
   "source": [
    "%matplotlib inline"
   ]
  },
  {
   "cell_type": "code",
   "execution_count": null,
   "metadata": {},
   "outputs": [],
   "source": [
    "train_folder=\"../data/BTech_Dataset_transformed/train/ok/\"\n",
    "train_files = glob.glob(train_folder+\"*.bmp\")\n",
    "print(\"Number of train files : \",len(train_files))"
   ]
  },
  {
   "cell_type": "code",
   "execution_count": null,
   "metadata": {},
   "outputs": [],
   "source": [
    "test_folder_ok=\"../data/BTech_Dataset_transformed/test/ok/\"\n",
    "test_files_ok = glob.glob(test_folder_ok+\"*.bmp\")\n",
    "print(\"Number of test files without anomalies : \",len(test_files_ok))\n",
    "\n",
    "test_folder_ko=\"../data/BTech_Dataset_transformed/test/ko/\"\n",
    "test_files_ko = glob.glob(test_folder_ko+\"*.bmp\")\n",
    "print(\"Number of test files with anomalies : \",len(test_files_ko))"
   ]
  },
  {
   "cell_type": "code",
   "execution_count": null,
   "metadata": {},
   "outputs": [],
   "source": [
    "def plot_sample(files_set,set_name,n_samples):\n",
    "    rng = np.random.default_rng()\n",
    "    _,axs=plt.subplots(int(np.ceil(n_samples/3)),3,figsize=(15,10))\n",
    "\n",
    "    samples=rng.integers(len(files_set),size=6)\n",
    "\n",
    "    for i ,ax in zip(samples,axs.ravel()) :\n",
    "        img=Image.open(files_set[i])\n",
    "        ax.imshow(img)\n",
    "        ax.set_xlabel(os.path.basename(files_set[i]))\n",
    "    plt.suptitle(\"Sample of images from \"+set_name)\n",
    "    plt.show()\n"
   ]
  },
  {
   "cell_type": "code",
   "execution_count": null,
   "metadata": {},
   "outputs": [],
   "source": [
    "plot_sample(train_files,'training set',6)"
   ]
  },
  {
   "cell_type": "code",
   "execution_count": null,
   "metadata": {},
   "outputs": [],
   "source": [
    "plot_sample(test_files_ok,'testing set without anomalies',6)"
   ]
  },
  {
   "cell_type": "code",
   "execution_count": null,
   "metadata": {},
   "outputs": [],
   "source": [
    "plot_sample(test_files_ko,'testing set with anomalies',6)"
   ]
  },
  {
   "cell_type": "code",
   "execution_count": null,
   "metadata": {},
   "outputs": [],
   "source": [
    "from anomalib.models import Fastflow"
   ]
  }
 ],
 "metadata": {
  "kernelspec": {
   "display_name": "projet8-QrmxkJ38-py3.11",
   "language": "python",
   "name": "python3"
  },
  "language_info": {
   "codemirror_mode": {
    "name": "ipython",
    "version": 3
   },
   "file_extension": ".py",
   "mimetype": "text/x-python",
   "name": "python",
   "nbconvert_exporter": "python",
   "pygments_lexer": "ipython3",
   "version": "3.11.3"
  }
 },
 "nbformat": 4,
 "nbformat_minor": 2
}
